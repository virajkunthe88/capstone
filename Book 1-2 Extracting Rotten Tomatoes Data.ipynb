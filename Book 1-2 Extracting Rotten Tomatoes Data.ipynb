{
 "cells": [
  {
   "cell_type": "code",
   "execution_count": null,
   "metadata": {},
   "outputs": [],
   "source": [
    "! pip install beautifulsoup4"
   ]
  },
  {
   "cell_type": "code",
   "execution_count": null,
   "metadata": {},
   "outputs": [],
   "source": [
    "! pip install httplib2"
   ]
  },
  {
   "cell_type": "code",
   "execution_count": null,
   "metadata": {},
   "outputs": [],
   "source": [
    "! pip install requests"
   ]
  },
  {
   "cell_type": "code",
   "execution_count": null,
   "metadata": {},
   "outputs": [],
   "source": [
    "from os import listdir\n",
    "from os.path import isfile, join\n",
    "onlyfiles = [f for f in listdir('scripts/')]\n",
    "\n",
    "onlyfiles"
   ]
  },
  {
   "cell_type": "code",
   "execution_count": null,
   "metadata": {},
   "outputs": [],
   "source": [
    "movies = [item.split('_')[1].replace('.txt', '').replace('-', '_') for item in onlyfiles]\n",
    "movies"
   ]
  },
  {
   "cell_type": "code",
   "execution_count": null,
   "metadata": {},
   "outputs": [],
   "source": [
    "pd.DataFrame(list(set(movies))).to_csv('movies_all.csv')"
   ]
  },
  {
   "cell_type": "code",
   "execution_count": null,
   "metadata": {},
   "outputs": [],
   "source": [
    "import requests\n",
    "import httplib2\n",
    "from bs4 import BeautifulSoup, SoupStrainer\n",
    "\n",
    "movie_tomdata = []\n",
    "http = httplib2.Http()\n",
    "for movie in movies:\n",
    "    url = 'https://www.rottentomatoes.com/m/%s' % movie\n",
    "    status, response = http.request(url)\n",
    "\n",
    "    soup = BeautifulSoup(response, \"html.parser\")\n",
    "\n",
    "    for tag in soup.select(\"score-board\"):\n",
    "        aud = tag['audiencescore']\n",
    "        tom = tag['tomatometerscore']\n",
    "        print(movie, aud, tom)\n",
    "        movie_tomdata.append((movie, aud, tom))"
   ]
  },
  {
   "cell_type": "code",
   "execution_count": null,
   "metadata": {},
   "outputs": [],
   "source": [
    "len(movie_tomdata), len(set(movie_tomdata))"
   ]
  },
  {
   "cell_type": "code",
   "execution_count": null,
   "metadata": {},
   "outputs": [],
   "source": [
    "! pip install pandas"
   ]
  },
  {
   "cell_type": "code",
   "execution_count": null,
   "metadata": {},
   "outputs": [],
   "source": [
    "import pandas as pd"
   ]
  },
  {
   "cell_type": "code",
   "execution_count": null,
   "metadata": {},
   "outputs": [],
   "source": [
    "pd.DataFrame(list(set(movie_tomdata))).to_csv('rotten_tomatoes.csv')"
   ]
  },
  {
   "cell_type": "code",
   "execution_count": null,
   "metadata": {},
   "outputs": [],
   "source": [
    "# function to extract all text given a URL\n",
    "def get_text(page_url):\n",
    "    res = requests.get(page_url)\n",
    "    html_page = res.content\n",
    "    soup = BeautifulSoup(html_page, 'html.parser')\n",
    "    text = soup.find_all(text=True)\n",
    "    return text\n",
    "#     script_text = '\\n'.join([t for t in text if t.parent.name == 'pre'])\n",
    "#     return script_text"
   ]
  },
  {
   "cell_type": "code",
   "execution_count": null,
   "metadata": {},
   "outputs": [],
   "source": [
    "get_text('https://www.rottentomatoes.com/m/127_hours')"
   ]
  },
  {
   "cell_type": "code",
   "execution_count": null,
   "metadata": {},
   "outputs": [],
   "source": [
    "# for each genre page, get all the script links and extract the corresponding\n",
    "# script text and save it to a file with the format 'genre_moviename.txt'\n",
    "\n",
    "for link in genre_links:\n",
    "    genre = link.split('gen-')[1].split(',')[0].split('.')[0]\n",
    "    http = httplib2.Http()\n",
    "    status, response = http.request(link)\n",
    "    for link in BeautifulSoup(response, 'html.parser', parse_only=SoupStrainer('a')):\n",
    "        if link.has_attr('href'):\n",
    "            if '/movie-scripts/scripts/' in link['href']:\n",
    "                script_link = 'https://www.actorpoint.com' + link['href']\n",
    "                movie_name = script_link.split('/')[-1].split('.')[0]\n",
    "                text = get_text(script_link)\n",
    "                filename = 'scripts/' + genre + '_' + movie_name + '.txt'\n",
    "                print(filename)\n",
    "                with open(filename, 'w') as f:\n",
    "                    f.write(text)\n"
   ]
  },
  {
   "cell_type": "code",
   "execution_count": null,
   "metadata": {},
   "outputs": [],
   "source": []
  }
 ],
 "metadata": {
  "kernelspec": {
   "display_name": "Python 3 (ipykernel)",
   "language": "python",
   "name": "python3"
  },
  "language_info": {
   "codemirror_mode": {
    "name": "ipython",
    "version": 3
   },
   "file_extension": ".py",
   "mimetype": "text/x-python",
   "name": "python",
   "nbconvert_exporter": "python",
   "pygments_lexer": "ipython3",
   "version": "3.10.4"
  }
 },
 "nbformat": 4,
 "nbformat_minor": 4
}
